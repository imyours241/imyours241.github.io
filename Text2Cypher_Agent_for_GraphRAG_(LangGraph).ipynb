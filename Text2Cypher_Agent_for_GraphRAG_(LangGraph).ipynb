{
  "nbformat": 4,
  "nbformat_minor": 0,
  "metadata": {
    "colab": {
      "provenance": [],
      "include_colab_link": true
    },
    "kernelspec": {
      "name": "python3",
      "display_name": "Python 3"
    },
    "language_info": {
      "name": "python"
    }
  },
  "cells": [
    {
      "cell_type": "markdown",
      "metadata": {
        "id": "view-in-github",
        "colab_type": "text"
      },
      "source": [
        "<a href=\"https://colab.research.google.com/github/imyours241/imyours241.github.io/blob/master/Text2Cypher_Agent_for_GraphRAG_(LangGraph).ipynb\" target=\"_parent\"><img src=\"https://colab.research.google.com/assets/colab-badge.svg\" alt=\"Open In Colab\"/></a>"
      ]
    },
    {
      "cell_type": "code",
      "execution_count": null,
      "metadata": {
        "collapsed": true,
        "id": "yyLvIYgzH2YX"
      },
      "outputs": [],
      "source": [
        "!pip install -qU langchain_community langgraph langchain_openai neo4j-driver"
      ]
    },
    {
      "cell_type": "markdown",
      "source": [
        "## **STEP 0. Set ENV & Graph**\n",
        "\n",
        "- Graph DB 생성 : https://sandbox.neo4j.com/"
      ],
      "metadata": {
        "id": "7R5icCkj6VSy"
      }
    },
    {
      "cell_type": "code",
      "source": [
        "import os\n",
        "os.environ[\"OPENAI_API_KEY\"] = \"sk-proj-...\"\n",
        "os.environ[\"NEO4J_URI\"] = \"neo4j://...\"\n",
        "os.environ[\"NEO4J_USERNAME\"] = \"neo4j\"\n",
        "os.environ[\"NEO4J_PASSWORD\"] = \"password\""
      ],
      "metadata": {
        "id": "p-YOXUUfQeVT"
      },
      "execution_count": null,
      "outputs": []
    },
    {
      "cell_type": "code",
      "source": [
        "from typing import Annotated\n",
        "from typing_extensions import TypedDict\n",
        "\n",
        "from langgraph.graph import StateGraph, START, END\n",
        "from langgraph.graph.message import add_messages\n",
        "\n",
        "class State(TypedDict): # 그래프의 상태를 정의하는 클래스\n",
        "    messages: Annotated[list, add_messages] # 메시지 누적\n",
        "    db_outputs: list\n",
        "\n",
        "graph_builder = StateGraph(State) # StateGraph 생성 (대화 흐름 관리)"
      ],
      "metadata": {
        "id": "OYl4i2j19sOB"
      },
      "execution_count": null,
      "outputs": []
    },
    {
      "cell_type": "markdown",
      "source": [
        "## **STEP 1. Generate Cypher Query**\n",
        "\n",
        "> 사용자 질문에 답변하기 위한 Cypher 쿼리문을 생성하는 노드"
      ],
      "metadata": {
        "id": "8wtFKs8agcg4"
      }
    },
    {
      "cell_type": "markdown",
      "source": [
        "### **get schema**\n",
        "\n",
        "- Cypher 쿼리문 생성에 필요한 Graph DB의 스키마 텍스트 받아오기\n",
        "\n",
        "\n",
        "```\n",
        "Node properties:\n",
        "Movie {url: STRING, runtime: INTEGER, revenue: INTEGER, budget: INTEGER, imdbRating: FLOAT, released: STRING, countries: LIST[STRING], languages: LIST[STRING], plot: STRING, imdbVotes: INTEGER, imdbId: STRING, year: INTEGER, poster: STRING, movieId: STRING, tmdbId: STRING, title: STRING}\n",
        "Genre {name: STRING}\n",
        "User {userId: STRING, name: STRING}\n",
        "Actor {bornIn: STRING, born: DATE, died: DATE, tmdbId: STRING, imdbId: STRING, name: STRING, url: STRING, bio: STRING, poster: STRING}\n",
        "Person {bornIn: STRING, born: DATE, died: DATE, tmdbId: STRING, imdbId: STRING, name: STRING, url: STRING, bio: STRING, poster: STRING}\n",
        "Director {url: STRING, bornIn: STRING, bio: STRING, died: DATE, born: DATE, imdbId: STRING, name: STRING, poster: STRING, tmdbId: STRING}\n",
        "\n",
        "Relationship properties:\n",
        "RATED {rating: FLOAT, timestamp: INTEGER}\n",
        "ACTED_IN {role: STRING}\n",
        "DIRECTED {role: STRING}\n",
        "\n",
        "The relationships:\n",
        "(:Actor)-[:ACTED_IN]->(:Movie)\n",
        "(:Actor)-[:DIRECTED]->(:Movie)\n",
        "(:Actor)-[:ACTED_IN]->(:Movie)\n",
        "(:Director)-[:DIRECTED]->(:Movie)\n",
        "(:Movie)-[:IN_GENRE]->(:Genre)\n",
        "(:User)-[:RATED]->(:Movie)\n",
        "```"
      ],
      "metadata": {
        "id": "rzfWpXxmZW6Q"
      }
    },
    {
      "cell_type": "code",
      "source": [
        "from neo4j import GraphDatabase, basic_auth\n",
        "\n",
        "neo4j_uri = os.environ[\"NEO4J_URI\"]\n",
        "neo4j_username = os.environ[\"NEO4J_USERNAME\"]\n",
        "neo4j_password = os.environ[\"NEO4J_PASSWORD\"]\n",
        "\n",
        "driver = GraphDatabase.driver(\n",
        "        neo4j_uri,\n",
        "        auth=basic_auth(neo4j_username, neo4j_password))"
      ],
      "metadata": {
        "id": "-4ZvP0BGC6Qn"
      },
      "execution_count": null,
      "outputs": []
    },
    {
      "cell_type": "code",
      "source": [
        "from neo4j.time import Date\n",
        "\n",
        "def get_node_datatype(value):\n",
        "    \"\"\"\n",
        "        입력된 노드 Value의 데이터 타입을 반환하는 함수\n",
        "    \"\"\"\n",
        "    if isinstance(value, str):\n",
        "        return \"STRING\"\n",
        "    elif isinstance(value, int):\n",
        "        return \"INTEGER\"\n",
        "    elif isinstance(value, float):\n",
        "        return \"FLOAT\"\n",
        "    elif isinstance(value, bool):\n",
        "        return \"BOOLEAN\"\n",
        "    elif isinstance(value, list):\n",
        "        return f\"LIST[{get_node_datatype(value[0])}]\" if value else \"LIST\"\n",
        "    elif isinstance(value, Date):\n",
        "        return \"DATE\"\n",
        "    else:\n",
        "        return \"UNKNOWN\"\n",
        "\n",
        "def get_schema_dict():\n",
        "    \"\"\"\n",
        "        Graph DB의 정보를 받아 노드 및 관계의 프로퍼티를 추출하고 스키마 딕셔너리를 반환하는 함수\n",
        "    \"\"\"\n",
        "    with driver.session() as session:\n",
        "        # 노드 프로퍼티 및 타입 추출\n",
        "        node_query = \"\"\"\n",
        "        MATCH (n)\n",
        "        WITH DISTINCT labels(n) AS node_labels, keys(n) AS property_keys, n\n",
        "        UNWIND node_labels AS label\n",
        "        UNWIND property_keys AS key\n",
        "        RETURN label, key, n[key] AS sample_value\n",
        "        \"\"\"\n",
        "        nodes = session.run(node_query)\n",
        "\n",
        "        # 관계 프로퍼티 및 타입 추출\n",
        "        rel_query = \"\"\"\n",
        "        MATCH ()-[r]->()\n",
        "        WITH DISTINCT type(r) AS rel_type, keys(r) AS property_keys, r\n",
        "        UNWIND property_keys AS key\n",
        "        RETURN rel_type, key, r[key] AS sample_value\n",
        "        \"\"\"\n",
        "        relationships = session.run(rel_query)\n",
        "\n",
        "        # 관계 유형 및 방향 추출\n",
        "        rel_direction_query = \"\"\"\n",
        "        MATCH (a)-[r]->(b)\n",
        "        RETURN DISTINCT labels(a) AS start_label, type(r) AS rel_type, labels(b) AS end_label\n",
        "        ORDER BY start_label, rel_type, end_label\n",
        "        \"\"\"\n",
        "        rel_directions = session.run(rel_direction_query)\n",
        "\n",
        "        # 스키마 딕셔너리 생성\n",
        "        schema = {\"nodes\": {}, \"relationships\": {}, \"relations\": []}\n",
        "\n",
        "        for record in nodes:\n",
        "            label = record[\"label\"]\n",
        "            key = record[\"key\"]\n",
        "            sample_value = record[\"sample_value\"] # 데이터 타입을 추론하기 위한 샘플 데이터\n",
        "            inferred_type = get_node_datatype(sample_value)\n",
        "            if label not in schema[\"nodes\"]:\n",
        "                schema[\"nodes\"][label] = {}\n",
        "            schema[\"nodes\"][label][key] = inferred_type\n",
        "\n",
        "        for record in relationships:\n",
        "            rel_type = record[\"rel_type\"]\n",
        "            key = record[\"key\"]\n",
        "            sample_value = record[\"sample_value\"] # 데이터 타입을 추론하기 위한 샘플 데이터\n",
        "            inferred_type = get_node_datatype(sample_value)\n",
        "            if rel_type not in schema[\"relationships\"]:\n",
        "                schema[\"relationships\"][rel_type] = {}\n",
        "            schema[\"relationships\"][rel_type][key] = inferred_type\n",
        "\n",
        "        for record in rel_directions:\n",
        "            start_label = record[\"start_label\"][0]\n",
        "            rel_type = record[\"rel_type\"]\n",
        "            end_label = record[\"end_label\"][0]\n",
        "            schema[\"relations\"].append(f\"(:{start_label})-[:{rel_type}]->(:{end_label})\")\n",
        "\n",
        "        return schema\n",
        "\n",
        "def get_schema_str(schema):\n",
        "    \"\"\"\n",
        "        스키마 딕셔너리를 LLM에 제공하기 위해 원하는 형태로 formatting 하는 함수\n",
        "    \"\"\"\n",
        "    result = []\n",
        "\n",
        "    # 노드 프로퍼티 출력\n",
        "    result.append(\"Node properties:\")\n",
        "    for label, properties in schema[\"nodes\"].items():\n",
        "        props = \", \".join(f\"{k}: {v}\" for k, v in properties.items())\n",
        "        result.append(f\"{label} {{{props}}}\")\n",
        "\n",
        "    # 관계 프로퍼티 출력\n",
        "    result.append(\"Relationship properties:\")\n",
        "    for rel_type, properties in schema[\"relationships\"].items():\n",
        "        props = \", \".join(f\"{k}: {v}\" for k, v in properties.items())\n",
        "        result.append(f\"{rel_type} {{{props}}}\")\n",
        "\n",
        "    # 관계 프로퍼티 출력\n",
        "    result.append(\"The relationships:\")\n",
        "    for relation in schema[\"relations\"]:\n",
        "        result.append(relation)\n",
        "\n",
        "    return \"\\n\".join(result)"
      ],
      "metadata": {
        "id": "ZsdtO7s7774Z"
      },
      "execution_count": null,
      "outputs": []
    },
    {
      "cell_type": "code",
      "source": [
        "schema = get_schema_str(get_schema_dict())"
      ],
      "metadata": {
        "id": "urlm6K2M9eBb"
      },
      "execution_count": null,
      "outputs": []
    },
    {
      "cell_type": "code",
      "source": [
        "print(schema)"
      ],
      "metadata": {
        "colab": {
          "base_uri": "https://localhost:8080/"
        },
        "id": "AxIZoaRBpIOT",
        "outputId": "b9ecbdf2-8082-4384-a082-6ef5bcac214f"
      },
      "execution_count": null,
      "outputs": [
        {
          "output_type": "stream",
          "name": "stdout",
          "text": [
            "Node properties:\n",
            "Movie {url: STRING, runtime: INTEGER, revenue: INTEGER, budget: INTEGER, imdbRating: FLOAT, released: STRING, countries: LIST[STRING], languages: LIST[STRING], plot: STRING, imdbVotes: INTEGER, imdbId: STRING, year: INTEGER, poster: STRING, movieId: STRING, tmdbId: STRING, title: STRING}\n",
            "Genre {name: STRING}\n",
            "User {userId: STRING, name: STRING}\n",
            "Actor {bornIn: STRING, born: DATE, died: DATE, tmdbId: STRING, imdbId: STRING, name: STRING, url: STRING, bio: STRING, poster: STRING}\n",
            "Person {bornIn: STRING, born: DATE, died: DATE, tmdbId: STRING, imdbId: STRING, name: STRING, url: STRING, bio: STRING, poster: STRING}\n",
            "Director {url: STRING, bornIn: STRING, bio: STRING, died: DATE, born: DATE, imdbId: STRING, name: STRING, poster: STRING, tmdbId: STRING}\n",
            "Relationship properties:\n",
            "RATED {rating: FLOAT, timestamp: INTEGER}\n",
            "ACTED_IN {role: STRING}\n",
            "DIRECTED {role: STRING}\n",
            "The relationships:\n",
            "(:Actor)-[:ACTED_IN]->(:Movie)\n",
            "(:Actor)-[:DIRECTED]->(:Movie)\n",
            "(:Actor)-[:ACTED_IN]->(:Movie)\n",
            "(:Director)-[:DIRECTED]->(:Movie)\n",
            "(:Movie)-[:IN_GENRE]->(:Genre)\n",
            "(:User)-[:RATED]->(:Movie)\n"
          ]
        }
      ]
    },
    {
      "cell_type": "markdown",
      "source": [
        "### **llm for generating cypher**\n",
        "\n",
        "- Cypher 쿼리문을 생성하는 LLM 구성하기"
      ],
      "metadata": {
        "id": "W3vnsdzc4L7S"
      }
    },
    {
      "cell_type": "code",
      "source": [
        "from langchain_openai import ChatOpenAI\n",
        "\n",
        "llm = ChatOpenAI(model='gpt-4o')"
      ],
      "metadata": {
        "id": "8WnAVzsQTMtR"
      },
      "execution_count": null,
      "outputs": []
    },
    {
      "cell_type": "code",
      "source": [
        "# LLM INPUT / QUERY 예시 제공\n",
        "fewshot_examples = [\n",
        "    \"USER INPUT: 'Toy Story에 어떤 배우들이 출연하나요?' QUERY: MATCH (a:Actor)-[:ACTED_IN]->(m:Movie) WHERE m.title = 'Toy Story' RETURN a.name\",\n",
        "    \"USER INPUT: 'Toy Story의 평균 평점은 몇점인가요?' QUERY: MATCH (u:User)-[r:RATED]->(m:Movie) WHERE m.title = 'Toy Story' RETURN AVG(r.rating)\",\n",
        "]"
      ],
      "metadata": {
        "id": "QceLtDdJBCVt"
      },
      "execution_count": null,
      "outputs": []
    },
    {
      "cell_type": "code",
      "source": [
        "from langchain_core.prompts import ChatPromptTemplate\n",
        "from langchain_core.messages import AIMessage\n",
        "\n",
        "GENERATE_SYSTEM_TEMPLATE = \"\"\"Given an input question, convert it to a Cypher query. No pre-amble.\n",
        "Do not wrap the response in any backticks or anything else. Respond with a Cypher statement only!\"\"\"\n",
        "\n",
        "GENERATE_USER_TEMPLATE = \"\"\"You are a Neo4j expert. Given an input question, create a syntactically correct Cypher query to run.\n",
        "Do not wrap the response in any backticks or anything else. Respond with a Cypher statement only!\n",
        "Here is the schema information\n",
        "{schema}\n",
        "\n",
        "Below are a number of examples of questions and their corresponding Cypher queries.\n",
        "\n",
        "{fewshot_examples}\n",
        "\n",
        "User input: {question}\n",
        "Cypher query:\"\"\"\n",
        "\n",
        "def generate_cypher(state: State):\n",
        "    generate_cypher_msgs = [\n",
        "        (\"system\", GENERATE_SYSTEM_TEMPLATE),\n",
        "        (\"user\", GENERATE_USER_TEMPLATE),\n",
        "    ]\n",
        "    text2cypher_prompt = ChatPromptTemplate.from_messages(generate_cypher_msgs)\n",
        "\n",
        "    response = llm.invoke(\n",
        "        text2cypher_prompt.format_messages(\n",
        "            question=state[\"messages\"], schema=schema, fewshot_examples=fewshot_examples\n",
        "        )\n",
        "    )\n",
        "    outputs = []\n",
        "    outputs.append(\n",
        "        AIMessage(\n",
        "            content=response.content,\n",
        "        )\n",
        "    )\n",
        "\n",
        "    return {\"messages\": outputs}\n",
        "\n",
        "graph_builder.add_node(\"generate_cypher\", generate_cypher)"
      ],
      "metadata": {
        "colab": {
          "base_uri": "https://localhost:8080/"
        },
        "id": "x6fF2G28-DnG",
        "outputId": "d7dac9a0-1720-4319-a42f-127d89d6a231"
      },
      "execution_count": null,
      "outputs": [
        {
          "output_type": "execute_result",
          "data": {
            "text/plain": [
              "<langgraph.graph.state.StateGraph at 0x7a76da54c9d0>"
            ]
          },
          "metadata": {},
          "execution_count": 10
        }
      ]
    },
    {
      "cell_type": "code",
      "source": [],
      "metadata": {
        "id": "bd2-2-JJBBFU"
      },
      "execution_count": null,
      "outputs": []
    },
    {
      "cell_type": "code",
      "source": [],
      "metadata": {
        "id": "4BalR0Lo-fum"
      },
      "execution_count": null,
      "outputs": []
    },
    {
      "cell_type": "markdown",
      "source": [
        "## **STEP 2. Excute Query**\n",
        "\n",
        "> Query 를 Neo4j Graph DB에서 실행하는 노드"
      ],
      "metadata": {
        "id": "pmHg0chN-ggv"
      }
    },
    {
      "cell_type": "code",
      "source": [
        "import json\n",
        "\n",
        "class ExcuteCypherNode:\n",
        "    \"\"\"\n",
        "        A node that runs the query generated in the last AIMessage.\n",
        "        마지막 AIMessage에서 생성된 Cypher를 실행하는 노드\n",
        "    \"\"\"\n",
        "\n",
        "    def __init__(self) -> None:\n",
        "        self.driver = driver\n",
        "\n",
        "    def __call__(self, inputs: dict):\n",
        "        print(\"###### EXCUTE CYPHER ######\")\n",
        "        if messages := inputs.get(\"messages\", []):\n",
        "            message = messages[-1].content # 마지막 message\n",
        "        else:\n",
        "            raise ValueError(\"No message found in input\")\n",
        "        outputs = []\n",
        "\n",
        "        print(\"실행 쿼리문\", message)\n",
        "\n",
        "        try:\n",
        "            with driver.session(database=\"neo4j\") as session:\n",
        "                database_output = session.read_transaction(\n",
        "                    lambda tx: tx.run(message).data())\n",
        "\n",
        "        except Exception as e:\n",
        "                database_output = str(e)\n",
        "\n",
        "        outputs.append(\n",
        "            database_output\n",
        "        )\n",
        "        return {\"db_outputs\": outputs}\n",
        "\n",
        "excute_cypher_node = ExcuteCypherNode()\n",
        "graph_builder.add_node(\"excute_cypher\", excute_cypher_node)"
      ],
      "metadata": {
        "colab": {
          "base_uri": "https://localhost:8080/"
        },
        "id": "6lqVAmpo-fsP",
        "outputId": "38b84637-10e3-4749-8212-09affe353405"
      },
      "execution_count": null,
      "outputs": [
        {
          "output_type": "execute_result",
          "data": {
            "text/plain": [
              "<langgraph.graph.state.StateGraph at 0x7a76da54c9d0>"
            ]
          },
          "metadata": {},
          "execution_count": 11
        }
      ]
    },
    {
      "cell_type": "code",
      "source": [],
      "metadata": {
        "id": "Up5pYSmKFOp7"
      },
      "execution_count": null,
      "outputs": []
    },
    {
      "cell_type": "markdown",
      "source": [
        "## **STEP 2-1. Router Edge**\n",
        "\n",
        "> Cypher가 정상 실행되어 조회되었는 지 확인하고 조회 실패했다면 Cypher 수정하는 노드로 보내는 엣지"
      ],
      "metadata": {
        "id": "2_Kg5gcWI6ei"
      }
    },
    {
      "cell_type": "code",
      "source": [
        "def route_correction(\n",
        "    state: State,\n",
        "):\n",
        "    \"\"\"\n",
        "    A edge that route to the \"correct_cypher\" node if the last generated Cypher query was not executed properly.\n",
        "    마지막으로 생성된 Cypher 쿼리가 제대로 실행되지 않은 경우 \"correct_cypher\" 노드로 라우팅되는 엣지\n",
        "    \"\"\"\n",
        "    if db_outputs := state.get(\"db_outputs\", []):\n",
        "        db_result = db_outputs[-1]\n",
        "    else:\n",
        "        raise ValueError(f\"No DB result found\")\n",
        "\n",
        "    print(\"###### ROUTE QUERY CORRECTION ######\")\n",
        "    print(\"DB 조회 결과\", db_result)\n",
        "    if type(db_result) == list and len(db_result) > 0: # 실행 성공 조건 : DB 조회 결과가 길이가 1이상인 리스트\n",
        "        print(\"!정상 조회 완료!\")\n",
        "        return \"answer\"\n",
        "\n",
        "    print(\"!정상 조회 실패!\")\n",
        "    return \"correct_cypher\"\n",
        "\n",
        "# 조건부 엣지 연결\n",
        "graph_builder.add_conditional_edges(\n",
        "    \"excute_cypher\", # 시작 노드\n",
        "    route_correction,\n",
        "    {\"correct_cypher\": \"correct_cypher\", \"answer\": \"answer\"},\n",
        ")"
      ],
      "metadata": {
        "colab": {
          "base_uri": "https://localhost:8080/"
        },
        "id": "y8vwQzj4JBH1",
        "outputId": "9e1a3836-ab63-435f-cae2-5b230d1810b0"
      },
      "execution_count": null,
      "outputs": [
        {
          "output_type": "execute_result",
          "data": {
            "text/plain": [
              "<langgraph.graph.state.StateGraph at 0x7a76da54c9d0>"
            ]
          },
          "metadata": {},
          "execution_count": 12
        }
      ]
    },
    {
      "cell_type": "code",
      "source": [],
      "metadata": {
        "id": "xTyFFhbsj76z"
      },
      "execution_count": null,
      "outputs": []
    },
    {
      "cell_type": "markdown",
      "source": [
        "## **STEP 3. Correct Query**\n",
        "\n",
        "> DB 조회 실패 시 생성되었던 Cypher 쿼리문 수정하는 노드"
      ],
      "metadata": {
        "id": "AN-Bqb-_-uQR"
      }
    },
    {
      "cell_type": "code",
      "source": [
        "CORRECT_CYPHER_SYSTEM_TEMPLATE = \"\"\"You are a Cypher expert reviewing a statement written by a junior developer.\n",
        "You need to correct the Cypher statement based on the provided errors. No pre-amble.\"\n",
        "If the error is empty, return \"RETURN \"No search results found.\" AS result;\".\n",
        "Do not wrap the response in any backticks or anything else. Respond with a Cypher statement only!\"\"\"\n",
        "\n",
        "CORRECT_CYPHER_USER_TEMPLATE = \"\"\"Check for invalid syntax or semantics and return a corrected Cypher statement.\n",
        "\n",
        "Schema:\n",
        "{schema}\n",
        "\n",
        "Note: Do not include any explanations or apologies in your responses.\n",
        "Do not wrap the response in any backticks or anything else.\n",
        "Respond with a Cypher statement only!\n",
        "\n",
        "Do not respond to any questions that might ask anything else than for you to construct a Cypher statement.\n",
        "\n",
        "The question is:\n",
        "{question}\n",
        "\n",
        "The Cypher statement is:\n",
        "{cypher}\n",
        "\n",
        "The errors are:\n",
        "{errors}\n",
        "\n",
        "Corrected Cypher statement: \"\"\"\n",
        "\n",
        "def correct_cypher(state: State):\n",
        "    if messages := state.get(\"db_outputs\", []):\n",
        "        db_result = messages[-1]\n",
        "    else:\n",
        "        raise ValueError(f\"No DB result found\")\n",
        "\n",
        "    if messages := state.get(\"messages\", []):\n",
        "        cypher = messages[-1].content\n",
        "    else:\n",
        "        raise ValueError(f\"No Cypher found\")\n",
        "\n",
        "    print(\"###### CORRECT CYPHER ######\")\n",
        "    print(\"수정 전 쿼리문\", cypher)\n",
        "    print(\"DB 조회 결과\", db_result)\n",
        "\n",
        "    correct_cypher_messages = [\n",
        "        (\"system\", CORRECT_CYPHER_SYSTEM_TEMPLATE),\n",
        "        (\"user\", CORRECT_CYPHER_USER_TEMPLATE),\n",
        "    ]\n",
        "    correct_cypher_prompt = ChatPromptTemplate.from_messages(correct_cypher_messages)\n",
        "\n",
        "    response = llm.invoke(\n",
        "        correct_cypher_prompt.format_messages(\n",
        "            question=state[\"messages\"], schema=schema, cypher=cypher, errors=db_result\n",
        "        )\n",
        "    )\n",
        "\n",
        "    outputs = []\n",
        "    outputs.append(\n",
        "        AIMessage(\n",
        "            content=response.content,\n",
        "        )\n",
        "    )\n",
        "\n",
        "    print(\"수정 후 쿼리문\", response.content)\n",
        "    return {\"messages\": outputs}\n",
        "\n",
        "graph_builder.add_node(\"correct_cypher\", correct_cypher)"
      ],
      "metadata": {
        "colab": {
          "base_uri": "https://localhost:8080/"
        },
        "id": "gvo_PMrFK4MO",
        "outputId": "f46f5745-d13a-4610-e446-323fba1b931e"
      },
      "execution_count": null,
      "outputs": [
        {
          "output_type": "execute_result",
          "data": {
            "text/plain": [
              "<langgraph.graph.state.StateGraph at 0x7a76da54c9d0>"
            ]
          },
          "metadata": {},
          "execution_count": 13
        }
      ]
    },
    {
      "cell_type": "code",
      "source": [],
      "metadata": {
        "id": "rz9RUpQEmkyi"
      },
      "execution_count": null,
      "outputs": []
    },
    {
      "cell_type": "markdown",
      "source": [
        "### error & correct example"
      ],
      "metadata": {
        "id": "IPA-RKxfk-eW"
      }
    },
    {
      "cell_type": "code",
      "source": [
        "cypher_example = \"MATCH (Actor)-[:ACTED_IN]->(Movie) WHERE a.name = 'Tom Hanks' RETURN m.title LIMIT 3\""
      ],
      "metadata": {
        "id": "ofnMNwfKkn2a"
      },
      "execution_count": null,
      "outputs": []
    },
    {
      "cell_type": "code",
      "source": [
        "try:\n",
        "    with driver.session(database=\"neo4j\") as session:\n",
        "        results = session.read_transaction(\n",
        "            lambda tx: tx.run(cypher_example).data())\n",
        "\n",
        "except Exception as e:\n",
        "    errors_example = str(e)"
      ],
      "metadata": {
        "colab": {
          "base_uri": "https://localhost:8080/"
        },
        "id": "dmIB1tqblqDx",
        "outputId": "87afe1f2-e0cf-4aad-97d5-f2748bfac3f1"
      },
      "execution_count": null,
      "outputs": [
        {
          "output_type": "stream",
          "name": "stderr",
          "text": [
            "<ipython-input-26-009e9026691d>:3: DeprecationWarning: read_transaction has been renamed to execute_read\n",
            "  results = session.read_transaction(\n"
          ]
        }
      ]
    },
    {
      "cell_type": "code",
      "source": [
        "errors_example"
      ],
      "metadata": {
        "colab": {
          "base_uri": "https://localhost:8080/",
          "height": 53
        },
        "id": "Rd5uz1mAk9rA",
        "outputId": "8e5b321f-27b2-4a48-c06c-099c5b0c657d"
      },
      "execution_count": null,
      "outputs": [
        {
          "output_type": "execute_result",
          "data": {
            "text/plain": [
              "'{code: Neo.ClientError.Statement.SyntaxError} {message: Variable `a` not defined (line 1, column 42 (offset: 41))\\n\"MATCH (Actor)-[:ACTED_IN]->(Movie) WHERE a.name = \\'Tom Hanks\\' RETURN m.title LIMIT 3\"\\n                                          ^}'"
            ],
            "application/vnd.google.colaboratory.intrinsic+json": {
              "type": "string"
            }
          },
          "metadata": {},
          "execution_count": 28
        }
      ]
    },
    {
      "cell_type": "code",
      "source": [
        "correct_cypher_messages = [\n",
        "    (\"system\", CORRECT_CYPHER_SYSTEM_TEMPLATE),\n",
        "    (\"user\", CORRECT_CYPHER_USER_TEMPLATE),\n",
        "]\n",
        "correct_cypher_prompt = ChatPromptTemplate.from_messages(correct_cypher_messages)\n",
        "\n",
        "response = llm.invoke(\n",
        "    correct_cypher_prompt.format_messages(\n",
        "        question=\"Tom Hanks 가 출연한 영화\", schema=schema, cypher=cypher_example, errors=errors_example\n",
        "    )\n",
        ")"
      ],
      "metadata": {
        "id": "2MERKTPWmlGJ"
      },
      "execution_count": null,
      "outputs": []
    },
    {
      "cell_type": "code",
      "source": [
        "print(response.content)"
      ],
      "metadata": {
        "colab": {
          "base_uri": "https://localhost:8080/"
        },
        "id": "o497Pbt4lHvz",
        "outputId": "5ebaa2a8-e822-457e-a1bf-f5189beaf620"
      },
      "execution_count": null,
      "outputs": [
        {
          "output_type": "stream",
          "name": "stdout",
          "text": [
            "MATCH (a:Actor)-[:ACTED_IN]->(m:Movie) WHERE a.name = 'Tom Hanks' RETURN m.title LIMIT 3\n"
          ]
        }
      ]
    },
    {
      "cell_type": "code",
      "source": [],
      "metadata": {
        "id": "8QqsrKnjUydL"
      },
      "execution_count": null,
      "outputs": []
    },
    {
      "cell_type": "markdown",
      "source": [
        "## **STEP 4. Answer based DB Results**\n",
        "\n",
        "> 사용자 질문, Cypher 쿼리문, DB 조회 결과를 기반으로 답변하는 노드"
      ],
      "metadata": {
        "id": "frA1LjwzUy-y"
      }
    },
    {
      "cell_type": "code",
      "source": [
        "FINAL_ANSWER_SYSTEM_TEMPLATE = \"\"\"\n",
        "You are a highly intelligent assistant trained to provide concise and accurate answers.\n",
        "You will be given a context that has been retrieved from a Neo4j database using a specific Cypher query.\n",
        "Your task is to analyze the context and answer the user’s question based on the information provided in the context.\n",
        "If the context lacks sufficient information, inform the user and suggest what additional details are needed.\n",
        "\n",
        "Focus solely on the context provided from the Neo4j database to form your response.\n",
        "Avoid making assumptions or using external knowledge unless explicitly stated in the context.\n",
        "Ensure the final answer is clear, relevant, and directly addresses the user’s question.\n",
        "If the question is ambiguous, ask clarifying questions to ensure accuracy before proceeding.\n",
        "ANSWER IN KOREAN.\n",
        "\"\"\"\n",
        "\n",
        "FINAL_ANSWER_USER_TEMPLATE = \"\"\"\n",
        "Based on this context retrieved from a Neo4j database using the following Cypher query:\n",
        "`{cypher_query}`\n",
        "\n",
        "The context is:\n",
        "{context}\n",
        "\n",
        "Answer the following question:\n",
        "<question>\n",
        "{question}\n",
        "</question>\n",
        "\n",
        "Please provide your answer based on the context above, explaining your reasoning.\n",
        "If clarification or additional information is needed, explain why and specify what is required.\n",
        "\"\"\"\n",
        "\n",
        "\n",
        "def answer(state: State):\n",
        "    if messages := state.get(\"db_outputs\", []):\n",
        "        db_result = messages[-1]\n",
        "    else:\n",
        "        raise ValueError(f\"No DB result found\")\n",
        "\n",
        "    if messages := state.get(\"messages\", []):\n",
        "        cypher = messages[-1].content\n",
        "    else:\n",
        "        raise ValueError(f\"No Cypher found\")\n",
        "\n",
        "    final_answer_msgs = [\n",
        "        (\"system\", FINAL_ANSWER_SYSTEM_TEMPLATE),\n",
        "        (\"user\", FINAL_ANSWER_USER_TEMPLATE),\n",
        "    ]\n",
        "    final_answer_prompt = ChatPromptTemplate.from_messages(final_answer_msgs)\n",
        "\n",
        "    response = llm.invoke(\n",
        "        final_answer_prompt.format_messages(\n",
        "            cypher_query=cypher, context=db_result, question=state[\"messages\"]\n",
        "        )\n",
        "    )\n",
        "\n",
        "    outputs = []\n",
        "    outputs.append(\n",
        "        AIMessage(\n",
        "            content=response.content,\n",
        "        )\n",
        "    )\n",
        "\n",
        "    print(\"###### ANSWER BASED DB RESULT ######\")\n",
        "    print(\"최종 답변\", response.content)\n",
        "\n",
        "    return {\"messages\": outputs}\n",
        "\n",
        "graph_builder.add_node(\"answer\", answer)"
      ],
      "metadata": {
        "colab": {
          "base_uri": "https://localhost:8080/"
        },
        "id": "5wovSCI6Uzg4",
        "outputId": "6d636ff0-ec34-4f04-8d47-14d447a006d4"
      },
      "execution_count": null,
      "outputs": [
        {
          "output_type": "execute_result",
          "data": {
            "text/plain": [
              "<langgraph.graph.state.StateGraph at 0x7a76da54c9d0>"
            ]
          },
          "metadata": {},
          "execution_count": 14
        }
      ]
    },
    {
      "cell_type": "code",
      "source": [],
      "metadata": {
        "id": "Qru4CjerSuPL"
      },
      "execution_count": null,
      "outputs": []
    },
    {
      "cell_type": "markdown",
      "source": [
        "## **STEP 5. Compile Graph**"
      ],
      "metadata": {
        "id": "jHYlhazuU0Zi"
      }
    },
    {
      "cell_type": "code",
      "source": [
        "# 엣지 연결\n",
        "graph_builder.add_edge(START, \"generate_cypher\")\n",
        "graph_builder.add_edge(\"generate_cypher\", \"excute_cypher\")\n",
        "graph_builder.add_edge(\"correct_cypher\", \"excute_cypher\")\n",
        "graph_builder.add_edge(\"answer\", END)\n",
        "graph = graph_builder.compile()"
      ],
      "metadata": {
        "id": "0kR-fa0tSuLN"
      },
      "execution_count": null,
      "outputs": []
    },
    {
      "cell_type": "code",
      "source": [
        "from IPython.display import Image, display\n",
        "\n",
        "try:\n",
        "    display(Image(graph.get_graph().draw_mermaid_png()))\n",
        "except Exception:\n",
        "    # This requires some extra dependencies and is optional\n",
        "    pass"
      ],
      "metadata": {
        "colab": {
          "base_uri": "https://localhost:8080/",
          "height": 449
        },
        "id": "NwrhBGh4SuIf",
        "outputId": "c7c51943-4112-4a91-8954-06f7aed60545"
      },
      "execution_count": null,
      "outputs": [
        {
          "output_type": "display_data",
          "data": {
            "image/png": "[encoded data removed]",
            "text/plain": [
              "<IPython.core.display.Image object>"
            ]
          },
          "metadata": {}
        }
      ]
    },
    {
      "cell_type": "code",
      "source": [
        "def stream_graph_updates(user_input: str):\n",
        "    for event in graph.stream({\"messages\": [{\"role\": \"user\", \"content\": user_input}]}): # graph 노드 호출 결과 받아옴\n",
        "        for value in event.values():\n",
        "            print(value, \"\\n\")"
      ],
      "metadata": {
        "id": "hYOUigH9SuGK"
      },
      "execution_count": null,
      "outputs": []
    },
    {
      "cell_type": "code",
      "source": [
        "while True:\n",
        "    try:\n",
        "        user_input = input(\"🧑‍💻 User: \")\n",
        "        if user_input.lower() in [\"quit\", \"exit\", \"q\"]:\n",
        "            print(\"Goodbye!\")\n",
        "            break\n",
        "\n",
        "        stream_graph_updates(user_input)\n",
        "    except:\n",
        "        break"
      ],
      "metadata": {
        "colab": {
          "base_uri": "https://localhost:8080/"
        },
        "id": "QvinEA1vTlgw",
        "outputId": "8108994a-923c-474f-90c6-bdaa2ce9bbba"
      },
      "execution_count": null,
      "outputs": [
        {
          "output_type": "stream",
          "name": "stdout",
          "text": [
            "🧑‍💻 User: 공원나연\n",
            "{'messages': [AIMessage(content=\"MATCH (a:Actor {name: '공원나연'}) RETURN a\", additional_kwargs={}, response_metadata={}, id='ec1f8076-5e20-4051-aa66-1eb06a1f49b3')]} \n",
            "\n",
            "###### EXCUTE CYPHER ######\n",
            "실행 쿼리문 MATCH (a:Actor {name: '공원나연'}) RETURN a\n"
          ]
        },
        {
          "output_type": "stream",
          "name": "stderr",
          "text": [
            "<ipython-input-11-0f07a779c70a>:24: DeprecationWarning: read_transaction has been renamed to execute_read\n",
            "  database_output = session.read_transaction(\n"
          ]
        },
        {
          "output_type": "stream",
          "name": "stdout",
          "text": [
            "###### ROUTE QUERY CORRECTION ######\n",
            "DB 조회 결과 []\n",
            "!정상 조회 실패!\n",
            "{'db_outputs': [[]]} \n",
            "\n",
            "###### CORRECT CYPHER ######\n",
            "수정 전 쿼리문 MATCH (a:Actor {name: '공원나연'}) RETURN a\n",
            "DB 조회 결과 []\n",
            "수정 후 쿼리문 RETURN \"No search results found.\" AS result;\n",
            "{'messages': [AIMessage(content='RETURN \"No search results found.\" AS result;', additional_kwargs={}, response_metadata={}, id='fd4d5b57-72b1-40df-a36b-63a3042f5beb')]} \n",
            "\n",
            "###### EXCUTE CYPHER ######\n",
            "실행 쿼리문 RETURN \"No search results found.\" AS result;\n",
            "###### ROUTE QUERY CORRECTION ######\n",
            "DB 조회 결과 [{'result': 'No search results found.'}]\n",
            "!정상 조회 완료!\n",
            "{'db_outputs': [[{'result': 'No search results found.'}]]} \n",
            "\n"
          ]
        },
        {
          "output_type": "stream",
          "name": "stderr",
          "text": [
            "<ipython-input-11-0f07a779c70a>:24: DeprecationWarning: read_transaction has been renamed to execute_read\n",
            "  database_output = session.read_transaction(\n"
          ]
        },
        {
          "output_type": "stream",
          "name": "stdout",
          "text": [
            "###### ANSWER BASED DB RESULT ######\n",
            "최종 답변 검색 결과가 없다는 메시지가 표시된 것으로 보아, Neo4j 데이터베이스에서 '공원나연'이라는 이름을 가진 배우에 대한 정보를 찾을 수 없습니다. 데이터베이스에 해당 이름의 배우 노드가 존재하지 않거나, 쿼리에 문제가 있을 수 있습니다. 추가적으로 검색이 실패한 이유를 확인하려면 데이터베이스에 '공원나연' 노드가 존재하는지, 혹은 쿼리 구문이 정확한지 확인이 필요합니다.\n",
            "{'messages': [AIMessage(content=\"검색 결과가 없다는 메시지가 표시된 것으로 보아, Neo4j 데이터베이스에서 '공원나연'이라는 이름을 가진 배우에 대한 정보를 찾을 수 없습니다. 데이터베이스에 해당 이름의 배우 노드가 존재하지 않거나, 쿼리에 문제가 있을 수 있습니다. 추가적으로 검색이 실패한 이유를 확인하려면 데이터베이스에 '공원나연' 노드가 존재하는지, 혹은 쿼리 구문이 정확한지 확인이 필요합니다.\", additional_kwargs={}, response_metadata={}, id='8567f767-3fae-4375-8524-05c88f3eb469')]} \n",
            "\n",
            "🧑‍💻 User: Tom Hanks가 출연한 영화 3개\n",
            "{'messages': [AIMessage(content=\"MATCH (a:Actor)-[:ACTED_IN]->(m:Movie) WHERE a.name = 'Tom Hanks' RETURN m.title LIMIT 3\", additional_kwargs={}, response_metadata={}, id='6f1ca2ed-edf5-4e09-9289-0c9c77909776')]} \n",
            "\n",
            "###### EXCUTE CYPHER ######\n",
            "실행 쿼리문 MATCH (a:Actor)-[:ACTED_IN]->(m:Movie) WHERE a.name = 'Tom Hanks' RETURN m.title LIMIT 3\n",
            "###### ROUTE QUERY CORRECTION ######\n",
            "DB 조회 결과 [{'m.title': 'Punchline'}, {'m.title': 'Catch Me If You Can'}, {'m.title': 'Dragnet'}]\n",
            "!정상 조회 완료!\n",
            "{'db_outputs': [[{'m.title': 'Punchline'}, {'m.title': 'Catch Me If You Can'}, {'m.title': 'Dragnet'}]]} \n",
            "\n"
          ]
        },
        {
          "output_type": "stream",
          "name": "stderr",
          "text": [
            "<ipython-input-11-0f07a779c70a>:24: DeprecationWarning: read_transaction has been renamed to execute_read\n",
            "  database_output = session.read_transaction(\n"
          ]
        },
        {
          "output_type": "stream",
          "name": "stdout",
          "text": [
            "###### ANSWER BASED DB RESULT ######\n",
            "최종 답변 Tom Hanks가 출연한 영화 3개는 다음과 같습니다: 'Punchline', 'Catch Me If You Can', 'Dragnet'. \n",
            "\n",
            "이 정보는 Neo4j 데이터베이스에서 제공된 Cypher 쿼리 결과로부터 추출되었습니다.\n",
            "{'messages': [AIMessage(content=\"Tom Hanks가 출연한 영화 3개는 다음과 같습니다: 'Punchline', 'Catch Me If You Can', 'Dragnet'. \\n\\n이 정보는 Neo4j 데이터베이스에서 제공된 Cypher 쿼리 결과로부터 추출되었습니다.\", additional_kwargs={}, response_metadata={}, id='ef6b42f6-38be-41fc-a738-4df653bcaa82')]} \n",
            "\n",
            "🧑‍💻 User: Steven Spielberg 감독은 어떤장르의 영화들을 만들었나요?\n",
            "{'messages': [AIMessage(content=\"MATCH (d:Director)-[:DIRECTED]->(m:Movie)-[:IN_GENRE]->(g:Genre) WHERE d.name = 'Steven Spielberg' RETURN DISTINCT g.name\", additional_kwargs={}, response_metadata={}, id='75134625-c5e1-4aef-b64c-e9238b6ebaf3')]} \n",
            "\n",
            "###### EXCUTE CYPHER ######\n",
            "실행 쿼리문 MATCH (d:Director)-[:DIRECTED]->(m:Movie)-[:IN_GENRE]->(g:Genre) WHERE d.name = 'Steven Spielberg' RETURN DISTINCT g.name\n",
            "###### ROUTE QUERY CORRECTION ######\n",
            "DB 조회 결과 [{'g.name': 'Sci-Fi'}, {'g.name': 'Thriller'}, {'g.name': 'Fantasy'}, {'g.name': 'Horror'}, {'g.name': 'Comedy'}, {'g.name': 'Adventure'}, {'g.name': 'Action'}, {'g.name': 'Drama'}, {'g.name': 'Mystery'}, {'g.name': 'War'}, {'g.name': 'Romance'}, {'g.name': 'Children'}, {'g.name': 'Crime'}, {'g.name': 'IMAX'}, {'g.name': 'Animation'}]\n",
            "!정상 조회 완료!\n",
            "{'db_outputs': [[{'g.name': 'Sci-Fi'}, {'g.name': 'Thriller'}, {'g.name': 'Fantasy'}, {'g.name': 'Horror'}, {'g.name': 'Comedy'}, {'g.name': 'Adventure'}, {'g.name': 'Action'}, {'g.name': 'Drama'}, {'g.name': 'Mystery'}, {'g.name': 'War'}, {'g.name': 'Romance'}, {'g.name': 'Children'}, {'g.name': 'Crime'}, {'g.name': 'IMAX'}, {'g.name': 'Animation'}]]} \n",
            "\n"
          ]
        },
        {
          "output_type": "stream",
          "name": "stderr",
          "text": [
            "<ipython-input-11-0f07a779c70a>:24: DeprecationWarning: read_transaction has been renamed to execute_read\n",
            "  database_output = session.read_transaction(\n"
          ]
        },
        {
          "output_type": "stream",
          "name": "stdout",
          "text": [
            "###### ANSWER BASED DB RESULT ######\n",
            "최종 답변 스티븐 스필버그 감독은 다음과 같은 장르의 영화들을 만들었습니다: Sci-Fi, Thriller, Fantasy, Horror, Comedy, Adventure, Action, Drama, Mystery, War, Romance, Children, Crime, IMAX, Animation.\n",
            "{'messages': [AIMessage(content='스티븐 스필버그 감독은 다음과 같은 장르의 영화들을 만들었습니다: Sci-Fi, Thriller, Fantasy, Horror, Comedy, Adventure, Action, Drama, Mystery, War, Romance, Children, Crime, IMAX, Animation.', additional_kwargs={}, response_metadata={}, id='f2168b36-1c6c-41b8-be30-00364114a44d')]} \n",
            "\n",
            "🧑‍💻 User: Tom Hanks와 같은 영화에 가장 많이 출연한 영화 배우 3명\n",
            "{'messages': [AIMessage(content=\"MATCH (a1:Actor {name: 'Tom Hanks'})-[:ACTED_IN]->(m:Movie)<-[:ACTED_IN]-(a2:Actor)\\nWHERE a2.name <> 'Tom Hanks'\\nRETURN a2.name, COUNT(m) AS sharedMovies\\nORDER BY sharedMovies DESC\\nLIMIT 3\", additional_kwargs={}, response_metadata={}, id='1f65d1cc-54f9-4ab3-9bdb-7428924e1277')]} \n",
            "\n",
            "###### EXCUTE CYPHER ######\n",
            "실행 쿼리문 MATCH (a1:Actor {name: 'Tom Hanks'})-[:ACTED_IN]->(m:Movie)<-[:ACTED_IN]-(a2:Actor)\n",
            "WHERE a2.name <> 'Tom Hanks'\n",
            "RETURN a2.name, COUNT(m) AS sharedMovies\n",
            "ORDER BY sharedMovies DESC\n",
            "LIMIT 3\n"
          ]
        },
        {
          "output_type": "stream",
          "name": "stderr",
          "text": [
            "<ipython-input-11-0f07a779c70a>:24: DeprecationWarning: read_transaction has been renamed to execute_read\n",
            "  database_output = session.read_transaction(\n"
          ]
        },
        {
          "output_type": "stream",
          "name": "stdout",
          "text": [
            "###### ROUTE QUERY CORRECTION ######\n",
            "DB 조회 결과 [{'a2.name': 'Tim Allen', 'sharedMovies': 4}, {'a2.name': 'Joan Cusack', 'sharedMovies': 3}, {'a2.name': 'Rita Wilson', 'sharedMovies': 2}]\n",
            "!정상 조회 완료!\n",
            "{'db_outputs': [[{'a2.name': 'Tim Allen', 'sharedMovies': 4}, {'a2.name': 'Joan Cusack', 'sharedMovies': 3}, {'a2.name': 'Rita Wilson', 'sharedMovies': 2}]]} \n",
            "\n",
            "###### ANSWER BASED DB RESULT ######\n",
            "최종 답변 Tom Hanks와 같은 영화에 가장 많이 출연한 배우 3명은 다음과 같습니다:\n",
            "1. Tim Allen - 함께 출연한 영화 4편\n",
            "2. Joan Cusack - 함께 출연한 영화 3편\n",
            "3. Rita Wilson - 함께 출연한 영화 2편\n",
            "\n",
            "이 정보는 제공된 컨텍스트에 기반한 것으로, Tom Hanks와 여러 영화에서 공동 출연한 배우들의 이름과 그들의 출연 영화 수를 나타냅니다.\n",
            "{'messages': [AIMessage(content='Tom Hanks와 같은 영화에 가장 많이 출연한 배우 3명은 다음과 같습니다:\\n1. Tim Allen - 함께 출연한 영화 4편\\n2. Joan Cusack - 함께 출연한 영화 3편\\n3. Rita Wilson - 함께 출연한 영화 2편\\n\\n이 정보는 제공된 컨텍스트에 기반한 것으로, Tom Hanks와 여러 영화에서 공동 출연한 배우들의 이름과 그들의 출연 영화 수를 나타냅니다.', additional_kwargs={}, response_metadata={}, id='4430f686-8790-45ee-912b-a2775061db2c')]} \n",
            "\n",
            "🧑‍💻 User: q\n",
            "Goodbye!\n"
          ]
        }
      ]
    },
    {
      "cell_type": "code",
      "source": [],
      "metadata": {
        "id": "NLaxi23c-t_3"
      },
      "execution_count": null,
      "outputs": []
    }
  ]
}